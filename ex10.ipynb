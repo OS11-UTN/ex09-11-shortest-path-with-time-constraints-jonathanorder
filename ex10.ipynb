{
 "cells": [
  {
   "cell_type": "code",
   "execution_count": 69,
   "metadata": {},
   "outputs": [
    {
     "name": "stdout",
     "output_type": "stream",
     "text": [
      "Input arguments:\n",
      "\n",
      " \n",
      "- Aeq matrix:\n",
      " [[ 1  1  0  0  0  0  0]\n",
      " [-1  0  1  1  0  0  0]\n",
      " [ 0 -1  0  0  1  0  0]\n",
      " [ 0  0 -1  0  0  1  0]\n",
      " [ 0  0  0  0 -1  0  1]\n",
      " [ 0  0  0 -1  0 -1 -1]] \n",
      "- Cost matrix: \n",
      " [2 1 2 5 2 1 2] \n",
      "- beq vector: \n",
      " [1, 0, 0, 0, 0, -1] \n",
      "- Bounds: \n",
      " ((0, None), (0, None), (0, None), (0, None), (0, None), (0, None), (0, None))\n",
      "\n",
      "Results using lam = 0.0 5.0\n",
      "\n",
      "Results using lam = 0.1 5.1\n",
      "\n",
      "Results using lam = 0.2 5.199999999999999\n",
      "\n",
      "Results using lam = 0.3 5.299999999999999\n",
      "\n",
      "Results using lam = 0.4 5.400000000000001\n",
      "\n",
      "Results using lam = 0.5 5.0\n",
      "\n",
      "Results using lam = 0.6 4.599999999999999\n",
      "\n",
      "Results using lam = 0.7 4.200000000000001\n",
      "\n",
      "Results using lam = 0.8 3.799999999999999\n",
      "\n",
      "Results using lam = 0.9 3.4000000000000012\n",
      "\n",
      "Results using lam = 1.0 3.0\n"
     ]
    },
    {
     "data": {
      "image/png": "[encoded data removed]",
      "text/plain": [
       "<Figure size 432x288 with 1 Axes>"
      ]
     },
     "metadata": {},
     "output_type": "display_data"
    }
   ],
   "source": [
    "import numpy as np\n",
    "from scipy.optimize import linprog\n",
    "from basic_utils import nn2na\n",
    "import matplotlib.pyplot as plt\n",
    "\n",
    "\n",
    "# Node-Node matrix\n",
    "NN = np.array([[0, 1, 1, 0, 0, 0],   #s\n",
    "               [0, 0, 0, 1, 0, 1],   #2\n",
    "               [0, 0, 0, 0, 1, 0],   #3\n",
    "               [0, 0, 0, 0, 0, 1],   #4\n",
    "               [0, 0, 0, 0, 0, 1],   #5\n",
    "               [0, 0, 0, 0, 0, 0]])  #t\n",
    "                     \n",
    "\n",
    "# A matrix, which is Node-arc matrix. Arcs is a tuple with dim(arcs) = #arcs in the graph\n",
    "Aeq, arcs = nn2na(NN) \n",
    "t = np.array([[3, 1, 3, 1, 3, 3, 5]])\n",
    "\n",
    "# Cost matrix. Dim(C) = #Arcs\n",
    "C = np.array([2, 1, 2, 5, 2, 1, 2])\n",
    "\n",
    "# b Vector. Dim(b) = #nodes\n",
    "beq = [1, 0, 0, 0, 0, -1]\n",
    "T = 8\n",
    "\n",
    "lam = np.array([0, 0.1, 0.2, 0.3, 0.4, 0.5, 0.6, 0.7, 0.8, 0.9, 1])\n",
    "\n",
    "\n",
    "# Bounds: 0 por lower, Inf for Upper.\n",
    "bounds = tuple([(0, None) for arc in range(0, Aeq.shape[1])])\n",
    "    \n",
    "\n",
    "def getCm(lam):\n",
    "    return C + lam * t[0]\n",
    "\n",
    "print(\"Input arguments:\\n\\n\",\n",
    "\"\\n- Aeq matrix:\\n\", Aeq,\n",
    "\"\\n- Cost matrix: \\n\", C,\n",
    "\"\\n- beq vector: \\n\", beq,\n",
    "\"\\n- Bounds: \\n\", bounds\n",
    ")\n",
    "\n",
    "L = np.zeros(lam.size)\n",
    "lamMax = 0\n",
    "for j in range(lam.size):\n",
    "    Cm = getCm(lam[j])\n",
    "    #OPTIMIZE:\n",
    "    result = linprog(Cm, A_eq=Aeq, b_eq=beq, bounds=bounds, method='simplex')\n",
    "    print(\"\\nResults using lam =\", lam[j], result.fun - lam[j] * T)\n",
    "    L[j] = result.fun - lam[j] * T\n",
    "\n",
    "plt.scatter(lam, L, alpha=0.5)\n",
    "plt.show()\n"
   ]
  }
 ],
 "metadata": {
  "kernelspec": {
   "display_name": "Python 3",
   "language": "python",
   "name": "python3"
  },
  "language_info": {
   "codemirror_mode": {
    "name": "ipython",
    "version": 3
   },
   "file_extension": ".py",
   "mimetype": "text/x-python",
   "name": "python",
   "nbconvert_exporter": "python",
   "pygments_lexer": "ipython3",
   "version": "3.6.5"
  }
 },
 "nbformat": 4,
 "nbformat_minor": 2
}
